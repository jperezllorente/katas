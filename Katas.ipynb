{
 "cells": [
  {
   "cell_type": "markdown",
   "id": "9e22edf9",
   "metadata": {},
   "source": [
    "**Stop Spinning My Words** -> https://www.codewars.com/kata/5264d2b162488dc400000001/train/python"
   ]
  },
  {
   "cell_type": "code",
   "execution_count": 1,
   "id": "982a076a",
   "metadata": {},
   "outputs": [],
   "source": [
    "import pandas"
   ]
  },
  {
   "cell_type": "code",
   "execution_count": 3,
   "id": "36ce3709",
   "metadata": {},
   "outputs": [],
   "source": [
    "s = \"hello my name is juan\""
   ]
  },
  {
   "cell_type": "code",
   "execution_count": 11,
   "id": "7f01be04",
   "metadata": {},
   "outputs": [
    {
     "data": {
      "text/plain": [
       "'olleh'"
      ]
     },
     "execution_count": 11,
     "metadata": {},
     "output_type": "execute_result"
    }
   ],
   "source": [
    "r = \"hello\"\n",
    "r[::-1]"
   ]
  },
  {
   "cell_type": "code",
   "execution_count": 10,
   "id": "c3418fd7",
   "metadata": {},
   "outputs": [
    {
     "name": "stdout",
     "output_type": "stream",
     "text": [
      "hello\n"
     ]
    }
   ],
   "source": [
    "s_ = s.split()\n",
    "for word in s_:\n",
    "    if len(word) >= 5:\n",
    "        print(word)\n",
    "    else:\n",
    "        pass\n"
   ]
  },
  {
   "cell_type": "code",
   "execution_count": 20,
   "id": "92fd72f6",
   "metadata": {},
   "outputs": [],
   "source": [
    "def reverse(string):\n",
    "    # We separate the differente words using split()\n",
    "    string_split = string.split()\n",
    "    result = []\n",
    "    # loop through the list of words and check if they >= 5 characters\n",
    "    for word in string_split:\n",
    "        if len(word) >= 5:\n",
    "    # If the word has 5 or more letters, then I reverse it\n",
    "            result.append(word[::-1])\n",
    "        else:\n",
    "            result.append(word)\n",
    "    # As I want to return the whole string I join() them using ' ' (space)\n",
    "    return ' '.join(result)\n",
    "            \n",
    "    \n",
    "    "
   ]
  },
  {
   "cell_type": "code",
   "execution_count": 19,
   "id": "a93b0c37",
   "metadata": {},
   "outputs": [
    {
     "data": {
      "text/plain": [
       "'olleh my name is juan'"
      ]
     },
     "execution_count": 19,
     "metadata": {},
     "output_type": "execute_result"
    }
   ],
   "source": [
    "reverse(s)"
   ]
  },
  {
   "cell_type": "markdown",
   "id": "bb29f4f3",
   "metadata": {},
   "source": [
    "**Blocks in an irregular pyramid** -> https://www.codewars.com/kata/5ca6c0a2783dec001da025ee/train/python"
   ]
  },
  {
   "cell_type": "code",
   "execution_count": 72,
   "id": "075a35ba",
   "metadata": {},
   "outputs": [],
   "source": [
    "def num_blocks(w, l, h):\n",
    "    bottom = 1\n",
    "    blocks = w*l\n",
    "    if bottom < h:\n",
    "        bottom+=1\n",
    "        w+=1\n",
    "        l+=1\n",
    "        blocks += w*l\n",
    "    else:\n",
    "        return blocks"
   ]
  },
  {
   "cell_type": "code",
   "execution_count": 107,
   "id": "12e7639f",
   "metadata": {},
   "outputs": [],
   "source": [
    "def num_blocks(w, l, h):\n",
    "    blocks = w*l\n",
    "    for n in range(1,h+1):\n",
    "        if n < h:\n",
    "            w+=1\n",
    "            l+=1\n",
    "            blocks += w*l\n",
    "        else:\n",
    "            return blocks"
   ]
  },
  {
   "cell_type": "code",
   "execution_count": 118,
   "id": "c6acc29f",
   "metadata": {},
   "outputs": [],
   "source": [
    "def num_blocks(w,l,h):\n",
    "    return (w*l*(w+1)*(l+1))+1"
   ]
  },
  {
   "cell_type": "code",
   "execution_count": 120,
   "id": "17686c73",
   "metadata": {},
   "outputs": [
    {
     "data": {
      "text/plain": [
       "121"
      ]
     },
     "execution_count": 120,
     "metadata": {},
     "output_type": "execute_result"
    }
   ],
   "source": [
    "num_blocks(2,4,3)"
   ]
  },
  {
   "cell_type": "markdown",
   "id": "3ca0c7ca",
   "metadata": {},
   "source": [
    "**Replace With Alphabet Position**"
   ]
  },
  {
   "cell_type": "code",
   "execution_count": 2,
   "id": "abb58144",
   "metadata": {},
   "outputs": [],
   "source": [
    "import string\n",
    "alphabet = list(string.ascii_lowercase)"
   ]
  },
  {
   "cell_type": "code",
   "execution_count": 166,
   "id": "c0b8fd6c",
   "metadata": {},
   "outputs": [],
   "source": [
    "s = \"The narwhal bacons at midnight.\"\n",
    "s_ = s.lower()"
   ]
  },
  {
   "cell_type": "code",
   "execution_count": 167,
   "id": "8b33161e",
   "metadata": {},
   "outputs": [],
   "source": [
    "def alphabet_position(text):\n",
    "    separator = \" \"\n",
    "    result = []\n",
    "    t = list(text.lower()) #turn entire string to lower to match the alphabet list\n",
    "    for letter in range(0,len(t)): # iterate through a range from 0 to length of list to extract index in alphabet list\n",
    "        if t[letter] in alphabet:\n",
    "            result.append(str(alphabet.index(t[letter])+1)) #because index starts at 0 I have to add 1\n",
    "        else:\n",
    "            pass\n",
    "    return separator.join(result) #join the character list by \" \""
   ]
  },
  {
   "cell_type": "code",
   "execution_count": 173,
   "id": "5c93dc90",
   "metadata": {},
   "outputs": [],
   "source": [
    "def alphabet_position(text):\n",
    "    separator = \" \"\n",
    "    result = []\n",
    "    t = list(text.lower()) #turn entire string to lower to match the alphabet list\n",
    "    for letter in t: # iterate through  list to extract index in alphabet list\n",
    "        if letter in alphabet:\n",
    "            result.append(str(alphabet.index(letter)+1)) #because index starts at 0 I have to add 1\n",
    "        else:\n",
    "            pass\n",
    "    return separator.join(result) #join the character list by \" \""
   ]
  },
  {
   "cell_type": "code",
   "execution_count": null,
   "id": "e4f1af86",
   "metadata": {},
   "outputs": [],
   "source": []
  }
 ],
 "metadata": {
  "kernelspec": {
   "display_name": "Python 3 (ipykernel)",
   "language": "python",
   "name": "python3"
  },
  "language_info": {
   "codemirror_mode": {
    "name": "ipython",
    "version": 3
   },
   "file_extension": ".py",
   "mimetype": "text/x-python",
   "name": "python",
   "nbconvert_exporter": "python",
   "pygments_lexer": "ipython3",
   "version": "3.11.0"
  }
 },
 "nbformat": 4,
 "nbformat_minor": 5
}
